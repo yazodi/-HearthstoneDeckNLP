{
 "cells": [
  {
   "cell_type": "code",
   "execution_count": 1,
   "id": "6e59484b-55a4-4985-908f-0f366382baad",
   "metadata": {},
   "outputs": [],
   "source": [
    "import pandas as pd\n",
    "import numpy as np\n",
    "import matplotlib.pyplot as plt\n",
    "import seaborn as sns\n",
    "import plotly.express as px\n",
    "import warnings\n",
    "warnings.filterwarnings(\"ignore\")\n"
   ]
  },
  {
   "cell_type": "code",
   "execution_count": 5,
   "id": "5e63d84b-700d-4bb5-902c-3669cb6818a3",
   "metadata": {},
   "outputs": [
    {
     "data": {
      "text/html": [
       "<div>\n",
       "<style scoped>\n",
       "    .dataframe tbody tr th:only-of-type {\n",
       "        vertical-align: middle;\n",
       "    }\n",
       "\n",
       "    .dataframe tbody tr th {\n",
       "        vertical-align: top;\n",
       "    }\n",
       "\n",
       "    .dataframe thead th {\n",
       "        text-align: right;\n",
       "    }\n",
       "</style>\n",
       "<table border=\"1\" class=\"dataframe\">\n",
       "  <thead>\n",
       "    <tr style=\"text-align: right;\">\n",
       "      <th></th>\n",
       "      <th>card_id</th>\n",
       "      <th>playerClass</th>\n",
       "      <th>type</th>\n",
       "      <th>name</th>\n",
       "      <th>set</th>\n",
       "      <th>text</th>\n",
       "      <th>cost</th>\n",
       "      <th>attack</th>\n",
       "      <th>health</th>\n",
       "      <th>rarity</th>\n",
       "      <th>collectible</th>\n",
       "      <th>flavor</th>\n",
       "      <th>race</th>\n",
       "      <th>how_to_earn</th>\n",
       "      <th>how_to_earn_golden</th>\n",
       "      <th>targeting_arrow_text</th>\n",
       "      <th>faction</th>\n",
       "      <th>durability</th>\n",
       "    </tr>\n",
       "  </thead>\n",
       "  <tbody>\n",
       "    <tr>\n",
       "      <th>0</th>\n",
       "      <td>KARA_00_07</td>\n",
       "      <td>MAGE</td>\n",
       "      <td>SPELL</td>\n",
       "      <td>Astral Portal</td>\n",
       "      <td>KARA</td>\n",
       "      <td>Summon a random &lt;b&gt;Legendary&lt;/b&gt; minion.</td>\n",
       "      <td>1.0</td>\n",
       "      <td>NaN</td>\n",
       "      <td>NaN</td>\n",
       "      <td>NaN</td>\n",
       "      <td>NaN</td>\n",
       "      <td>NaN</td>\n",
       "      <td>NaN</td>\n",
       "      <td>NaN</td>\n",
       "      <td>NaN</td>\n",
       "      <td>NaN</td>\n",
       "      <td>NaN</td>\n",
       "      <td>NaN</td>\n",
       "    </tr>\n",
       "    <tr>\n",
       "      <th>1</th>\n",
       "      <td>NEW1_008a</td>\n",
       "      <td>DRUID</td>\n",
       "      <td>SPELL</td>\n",
       "      <td>Ancient Teachings</td>\n",
       "      <td>EXPERT1</td>\n",
       "      <td>Draw a card.</td>\n",
       "      <td>0.0</td>\n",
       "      <td>NaN</td>\n",
       "      <td>NaN</td>\n",
       "      <td>NaN</td>\n",
       "      <td>NaN</td>\n",
       "      <td>NaN</td>\n",
       "      <td>NaN</td>\n",
       "      <td>NaN</td>\n",
       "      <td>NaN</td>\n",
       "      <td>NaN</td>\n",
       "      <td>NaN</td>\n",
       "      <td>NaN</td>\n",
       "    </tr>\n",
       "    <tr>\n",
       "      <th>2</th>\n",
       "      <td>BRM_010t2</td>\n",
       "      <td>DRUID</td>\n",
       "      <td>MINION</td>\n",
       "      <td>Druid of the Flame</td>\n",
       "      <td>BRM</td>\n",
       "      <td>NaN</td>\n",
       "      <td>3.0</td>\n",
       "      <td>2.0</td>\n",
       "      <td>5.0</td>\n",
       "      <td>COMMON</td>\n",
       "      <td>NaN</td>\n",
       "      <td>NaN</td>\n",
       "      <td>BEAST</td>\n",
       "      <td>NaN</td>\n",
       "      <td>NaN</td>\n",
       "      <td>NaN</td>\n",
       "      <td>NaN</td>\n",
       "      <td>NaN</td>\n",
       "    </tr>\n",
       "    <tr>\n",
       "      <th>3</th>\n",
       "      <td>AT_132</td>\n",
       "      <td>NEUTRAL</td>\n",
       "      <td>MINION</td>\n",
       "      <td>Justicar Trueheart</td>\n",
       "      <td>TGT</td>\n",
       "      <td>&lt;b&gt;Battlecry:&lt;/b&gt; Replace your starting Hero P...</td>\n",
       "      <td>6.0</td>\n",
       "      <td>6.0</td>\n",
       "      <td>3.0</td>\n",
       "      <td>LEGENDARY</td>\n",
       "      <td>True</td>\n",
       "      <td>It's like putting racing stripes and a giant s...</td>\n",
       "      <td>NaN</td>\n",
       "      <td>NaN</td>\n",
       "      <td>NaN</td>\n",
       "      <td>NaN</td>\n",
       "      <td>NaN</td>\n",
       "      <td>NaN</td>\n",
       "    </tr>\n",
       "    <tr>\n",
       "      <th>4</th>\n",
       "      <td>OG_141</td>\n",
       "      <td>NEUTRAL</td>\n",
       "      <td>MINION</td>\n",
       "      <td>Faceless Behemoth</td>\n",
       "      <td>OG</td>\n",
       "      <td>NaN</td>\n",
       "      <td>10.0</td>\n",
       "      <td>10.0</td>\n",
       "      <td>10.0</td>\n",
       "      <td>COMMON</td>\n",
       "      <td>True</td>\n",
       "      <td>Rejected names: Forty-Foot Faceless, Big ol' N...</td>\n",
       "      <td>NaN</td>\n",
       "      <td>NaN</td>\n",
       "      <td>NaN</td>\n",
       "      <td>NaN</td>\n",
       "      <td>NaN</td>\n",
       "      <td>NaN</td>\n",
       "    </tr>\n",
       "  </tbody>\n",
       "</table>\n",
       "</div>"
      ],
      "text/plain": [
       "      card_id playerClass    type                name      set  \\\n",
       "0  KARA_00_07        MAGE   SPELL       Astral Portal     KARA   \n",
       "1   NEW1_008a       DRUID   SPELL   Ancient Teachings  EXPERT1   \n",
       "2   BRM_010t2       DRUID  MINION  Druid of the Flame      BRM   \n",
       "3      AT_132     NEUTRAL  MINION  Justicar Trueheart      TGT   \n",
       "4      OG_141     NEUTRAL  MINION   Faceless Behemoth       OG   \n",
       "\n",
       "                                                text  cost  attack  health  \\\n",
       "0           Summon a random <b>Legendary</b> minion.   1.0     NaN     NaN   \n",
       "1                                       Draw a card.   0.0     NaN     NaN   \n",
       "2                                                NaN   3.0     2.0     5.0   \n",
       "3  <b>Battlecry:</b> Replace your starting Hero P...   6.0     6.0     3.0   \n",
       "4                                                NaN  10.0    10.0    10.0   \n",
       "\n",
       "      rarity collectible                                             flavor  \\\n",
       "0        NaN         NaN                                                NaN   \n",
       "1        NaN         NaN                                                NaN   \n",
       "2     COMMON         NaN                                                NaN   \n",
       "3  LEGENDARY        True  It's like putting racing stripes and a giant s...   \n",
       "4     COMMON        True  Rejected names: Forty-Foot Faceless, Big ol' N...   \n",
       "\n",
       "    race how_to_earn how_to_earn_golden targeting_arrow_text faction  \\\n",
       "0    NaN         NaN                NaN                  NaN     NaN   \n",
       "1    NaN         NaN                NaN                  NaN     NaN   \n",
       "2  BEAST         NaN                NaN                  NaN     NaN   \n",
       "3    NaN         NaN                NaN                  NaN     NaN   \n",
       "4    NaN         NaN                NaN                  NaN     NaN   \n",
       "\n",
       "   durability  \n",
       "0         NaN  \n",
       "1         NaN  \n",
       "2         NaN  \n",
       "3         NaN  \n",
       "4         NaN  "
      ]
     },
     "execution_count": 5,
     "metadata": {},
     "output_type": "execute_result"
    }
   ],
   "source": [
    "# Dosya adını kendi indirdiğin dosya adıyla değiştir\n",
    "df = pd.read_csv(\"cards.csv\", encoding=\"ISO-8859-1\")\n",
    "\n",
    "\n",
    "# İlk 5 satıra bakalım\n",
    "df.head()\n"
   ]
  },
  {
   "cell_type": "code",
   "execution_count": 6,
   "id": "f6e5e6be-3121-4976-a158-ff8489c9447e",
   "metadata": {},
   "outputs": [
    {
     "name": "stdout",
     "output_type": "stream",
     "text": [
      "<class 'pandas.core.frame.DataFrame'>\n",
      "RangeIndex: 2819 entries, 0 to 2818\n",
      "Data columns (total 18 columns):\n",
      " #   Column                Non-Null Count  Dtype  \n",
      "---  ------                --------------  -----  \n",
      " 0   card_id               2819 non-null   object \n",
      " 1   playerClass           2816 non-null   object \n",
      " 2   type                  2818 non-null   object \n",
      " 3   name                  2818 non-null   object \n",
      " 4   set                   2818 non-null   object \n",
      " 5   text                  2386 non-null   object \n",
      " 6   cost                  2168 non-null   float64\n",
      " 7   attack                1258 non-null   float64\n",
      " 8   health                1368 non-null   float64\n",
      " 9   rarity                1399 non-null   object \n",
      " 10  collectible           1070 non-null   object \n",
      " 11  flavor                1056 non-null   object \n",
      " 12  race                  328 non-null    object \n",
      " 13  how_to_earn           245 non-null    object \n",
      " 14  how_to_earn_golden    290 non-null    object \n",
      " 15  targeting_arrow_text  55 non-null     object \n",
      " 16  faction               65 non-null     object \n",
      " 17  durability            65 non-null     float64\n",
      "dtypes: float64(4), object(14)\n",
      "memory usage: 396.6+ KB\n"
     ]
    }
   ],
   "source": [
    "# temel bilgiler\n",
    "# Veri setinin yapısı\n",
    "df.info()\n",
    "\n",
    "# Eksik verileri kontrol et\n",
    "df.isnull().sum()\n",
    "\n",
    "# Benzersiz deck türü var mı bakalım (eğer varsa)\n",
    "if \"deck\" in df.columns:\n",
    "    print(df[\"deck\"].value_counts())\n"
   ]
  },
  {
   "cell_type": "code",
   "execution_count": 7,
   "id": "fc6a133c-c235-4566-a16d-6448b4d74fdb",
   "metadata": {},
   "outputs": [
    {
     "name": "stdout",
     "output_type": "stream",
     "text": [
      "\n",
      "Kart: Astral Portal\n",
      "Açıklama: Summon a random <b>Legendary</b> minion.\n",
      "\n",
      "Kart: Ancient Teachings\n",
      "Açıklama: Draw a card.\n",
      "\n",
      "Kart: Druid of the Flame\n",
      "Açıklama: nan\n",
      "\n",
      "Kart: Justicar Trueheart\n",
      "Açıklama: <b>Battlecry:</b> Replace your starting Hero Power with a better one.\n",
      "\n",
      "Kart: Faceless Behemoth\n",
      "Açıklama: nan\n"
     ]
    }
   ],
   "source": [
    "# Kart açıklamalarından bazı örnekler\n",
    "if \"text\" in df.columns:\n",
    "    for i in range(5):\n",
    "        print(f\"\\nKart: {df.iloc[i]['name']}\")\n",
    "        print(f\"Açıklama: {df.iloc[i]['text']}\")\n"
   ]
  },
  {
   "cell_type": "code",
   "execution_count": 8,
   "id": "75945b11-75da-4645-82e1-d9cff582f1f3",
   "metadata": {},
   "outputs": [
    {
     "data": {
      "image/png": "[encoded data removed]",
      "text/plain": [
       "<Figure size 800x500 with 1 Axes>"
      ]
     },
     "metadata": {},
     "output_type": "display_data"
    },
    {
     "data": {
      "image/png": "[encoded data removed]",
      "text/plain": [
       "<Figure size 800x500 with 1 Axes>"
      ]
     },
     "metadata": {},
     "output_type": "display_data"
    }
   ],
   "source": [
    "# Kart türleri\n",
    "if \"type\" in df.columns:\n",
    "    plt.figure(figsize=(8,5))\n",
    "    sns.countplot(data=df, x=\"type\", order=df[\"type\"].value_counts().index)\n",
    "    plt.title(\"Kart Türleri Dağılımı\")\n",
    "    plt.xticks(rotation=45)\n",
    "    plt.show()\n",
    "\n",
    "# Kart sınıfları (mage, hunter vs.)\n",
    "if \"playerClass\" in df.columns:\n",
    "    plt.figure(figsize=(8,5))\n",
    "    sns.countplot(data=df, x=\"playerClass\", order=df[\"playerClass\"].value_counts().index)\n",
    "    plt.title(\"Kart Sınıfı Dağılımı\")\n",
    "    plt.xticks(rotation=45)\n",
    "    plt.show()\n"
   ]
  },
  {
   "cell_type": "code",
   "execution_count": 9,
   "id": "899c0154-e8ad-4c0d-8c15-9bb988a10424",
   "metadata": {},
   "outputs": [
    {
     "data": {
      "text/plain": [
       "np.int64(433)"
      ]
     },
     "execution_count": 9,
     "metadata": {},
     "output_type": "execute_result"
    }
   ],
   "source": [
    "# Kaç kartta açıklama (text) eksik?\n",
    "df[\"text\"].isnull().sum()\n"
   ]
  },
  {
   "cell_type": "code",
   "execution_count": 10,
   "id": "cd65909f-1e60-4404-99f6-61437c0bf379",
   "metadata": {},
   "outputs": [],
   "source": [
    "df = df.dropna(subset=[\"text\"])\n"
   ]
  },
  {
   "cell_type": "code",
   "execution_count": 11,
   "id": "fccd4a3f-72fe-4698-ae3e-a1811112d7f1",
   "metadata": {},
   "outputs": [],
   "source": [
    "import re\n",
    "\n",
    "def clean_html(raw_text):\n",
    "    clean_text = re.sub(r'<.*?>', '', str(raw_text))  # HTML taglerini temizle\n",
    "    return clean_text\n",
    "\n",
    "df[\"clean_text\"] = df[\"text\"].apply(clean_html)\n"
   ]
  },
  {
   "cell_type": "code",
   "execution_count": 12,
   "id": "50e0e38c-2469-4e40-a32b-3787941ef5d4",
   "metadata": {},
   "outputs": [],
   "source": [
    "import string\n",
    "\n",
    "def preprocess_text(text):\n",
    "    # Küçük harfe çevir\n",
    "    text = text.lower()\n",
    "    # Noktalama işaretlerini kaldır\n",
    "    text = text.translate(str.maketrans('', '', string.punctuation))\n",
    "    return text\n",
    "\n",
    "df[\"clean_text\"] = df[\"clean_text\"].apply(preprocess_text)\n"
   ]
  },
  {
   "cell_type": "code",
   "execution_count": 14,
   "id": "99fbbe35-b2e4-43a1-9af5-062e12a01ea3",
   "metadata": {},
   "outputs": [],
   "source": [
    "target_column = \"playerClass\"  # Hunter, Mage, Rogue vs.\n",
    "\n"
   ]
  },
  {
   "cell_type": "code",
   "execution_count": 15,
   "id": "eaa0d743-3714-4d07-b0f2-e05c27a401e0",
   "metadata": {},
   "outputs": [],
   "source": [
    "from sklearn.feature_extraction.text import TfidfVectorizer\n",
    "\n",
    "# TF-IDF vektörleştirici oluştur\n",
    "vectorizer = TfidfVectorizer(max_features=3000)  # 3000 en iyi kelime\n",
    "\n",
    "# Temizlenmiş açıklamaları vektörleştir\n",
    "X = vectorizer.fit_transform(df[\"clean_text\"])\n",
    "\n",
    "# Hedef sınıf\n",
    "y = df[\"playerClass\"]\n"
   ]
  },
  {
   "cell_type": "code",
   "execution_count": 17,
   "id": "4d0486ff-cfd0-49bf-9d2f-f855fc952261",
   "metadata": {},
   "outputs": [
    {
     "name": "stdout",
     "output_type": "stream",
     "text": [
      "X içinde NaN: False\n",
      "y içinde NaN: 2\n"
     ]
    }
   ],
   "source": [
    "print(\"X içinde NaN:\", np.any(pd.isnull(X.toarray())))\n",
    "print(\"y içinde NaN:\", y.isnull().sum())\n"
   ]
  },
  {
   "cell_type": "code",
   "execution_count": 20,
   "id": "219c670c-3e16-4b28-acd5-36dfd5bff852",
   "metadata": {},
   "outputs": [],
   "source": [
    "# Her sınıftan kaç tane kart olduğunu say\n",
    "class_counts = df[\"playerClass\"].value_counts()\n",
    "\n",
    "# Sadece en az 2 örneğe sahip sınıfları filtrele\n",
    "valid_classes = class_counts[class_counts > 1].index\n",
    "\n",
    "# Bu geçerli sınıflarla veri setini filtrele\n",
    "df = df[df[\"playerClass\"].isin(valid_classes)]\n"
   ]
  },
  {
   "cell_type": "code",
   "execution_count": 21,
   "id": "0f5284ec-12a6-4c5f-9bc8-1c93d5c5bebe",
   "metadata": {},
   "outputs": [],
   "source": [
    "# Yine X ve y oluştur\n",
    "X = vectorizer.fit_transform(df[\"clean_text\"])\n",
    "y = df[\"playerClass\"]\n",
    "\n",
    "# Bu sefer stratify sorunsuz çalışacaktır\n",
    "from sklearn.model_selection import train_test_split\n",
    "X_train, X_test, y_train, y_test = train_test_split(\n",
    "    X, y, test_size=0.2, random_state=42, stratify=y\n",
    ")\n"
   ]
  },
  {
   "cell_type": "code",
   "execution_count": 22,
   "id": "4dbe17eb-b308-413a-b90c-bf8981a306fc",
   "metadata": {},
   "outputs": [
    {
     "name": "stdout",
     "output_type": "stream",
     "text": [
      "🎯 Doğruluk Oranı (Accuracy): 0.6310272536687631\n",
      "\n",
      "📋 Sınıflandırma Raporu:\n",
      "               precision    recall  f1-score   support\n",
      "\n",
      "       DREAM       0.00      0.00      0.00         1\n",
      "       DRUID       0.80      0.14      0.24        29\n",
      "      HUNTER       0.50      0.05      0.09        20\n",
      "        MAGE       0.00      0.00      0.00        19\n",
      "     NEUTRAL       0.63      1.00      0.77       290\n",
      "     PALADIN       0.00      0.00      0.00        19\n",
      "      PRIEST       0.00      0.00      0.00        19\n",
      "       ROGUE       1.00      0.15      0.26        20\n",
      "      SHAMAN       1.00      0.05      0.10        20\n",
      "     WARLOCK       1.00      0.06      0.11        18\n",
      "     WARRIOR       0.50      0.05      0.08        22\n",
      "\n",
      "    accuracy                           0.63       477\n",
      "   macro avg       0.49      0.14      0.15       477\n",
      "weighted avg       0.60      0.63      0.51       477\n",
      "\n"
     ]
    }
   ],
   "source": [
    "from sklearn.linear_model import LogisticRegression\n",
    "from sklearn.metrics import classification_report, accuracy_score\n",
    "\n",
    "# Modeli oluştur\n",
    "model = LogisticRegression(max_iter=1000)\n",
    "\n",
    "# Eğit\n",
    "model.fit(X_train, y_train)\n",
    "\n",
    "# Tahmin yap\n",
    "y_pred = model.predict(X_test)\n",
    "\n",
    "# Performans değerlendirme\n",
    "print(\"🎯 Doğruluk Oranı (Accuracy):\", accuracy_score(y_test, y_pred))\n",
    "print(\"\\n📋 Sınıflandırma Raporu:\\n\", classification_report(y_test, y_pred))\n"
   ]
  },
  {
   "cell_type": "code",
   "execution_count": 23,
   "id": "afa9954c-bd71-4f36-bdeb-fda3c8b55311",
   "metadata": {},
   "outputs": [
    {
     "name": "stdout",
     "output_type": "stream",
     "text": [
      "🔮 Tahmin Edilen Sınıf: NEUTRAL\n"
     ]
    }
   ],
   "source": [
    "def predict_class(example_text):\n",
    "    cleaned = preprocess_text(clean_html(example_text))\n",
    "    vectorized = vectorizer.transform([cleaned])\n",
    "    return model.predict(vectorized)[0]\n",
    "\n",
    "# Deneme\n",
    "kart_aciklamasi = \"Deal 3 damage to all enemy minions.\"\n",
    "tahmin = predict_class(kart_aciklamasi)\n",
    "print(\"🔮 Tahmin Edilen Sınıf:\", tahmin)\n"
   ]
  },
  {
   "cell_type": "code",
   "execution_count": 24,
   "id": "16d41819-97eb-4aad-96f6-dc2f4ab4b5ed",
   "metadata": {},
   "outputs": [
    {
     "data": {
      "text/plain": [
       "['tfidf_vectorizer.pkl']"
      ]
     },
     "execution_count": 24,
     "metadata": {},
     "output_type": "execute_result"
    }
   ],
   "source": [
    "import joblib\n",
    "\n",
    "# Modeli ve TF-IDF vektörleştiriciyi kaydet\n",
    "joblib.dump(model, \"hearthstone_model.pkl\")\n",
    "joblib.dump(vectorizer, \"tfidf_vectorizer.pkl\")\n"
   ]
  },
  {
   "cell_type": "code",
   "execution_count": null,
   "id": "59c2c8f3-3739-45d1-9772-ad475b9f1726",
   "metadata": {},
   "outputs": [],
   "source": [
    "g"
   ]
  }
 ],
 "metadata": {
  "kernelspec": {
   "display_name": "Python 3 (ipykernel)",
   "language": "python",
   "name": "python3"
  },
  "language_info": {
   "codemirror_mode": {
    "name": "ipython",
    "version": 3
   },
   "file_extension": ".py",
   "mimetype": "text/x-python",
   "name": "python",
   "nbconvert_exporter": "python",
   "pygments_lexer": "ipython3",
   "version": "3.12.9"
  }
 },
 "nbformat": 4,
 "nbformat_minor": 5
}
